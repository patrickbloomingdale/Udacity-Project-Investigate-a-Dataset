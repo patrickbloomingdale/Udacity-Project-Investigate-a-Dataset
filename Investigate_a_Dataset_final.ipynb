{
 "cells": [
  {
   "cell_type": "markdown",
   "metadata": {},
   "source": [
    "# Project: Investigate a Dataset (The Movie Database (TMDb))"
   ]
  },
  {
   "cell_type": "markdown",
   "metadata": {},
   "source": [
    "### <center>by Patrick Bloomingdale</center>\n",
    "\n",
    "<center>This project is part of Udacity's Data Analyst Nanodegree</center>"
   ]
  },
  {
   "cell_type": "markdown",
   "metadata": {},
   "source": [
    "---\n",
    "## Table of Contents\n",
    "<ul>\n",
    "<li><a href=\"#intro\">I. Introduction</a></li>\n",
    "<li><a href=\"#wrangling\">II. Data Wrangling</a></li>\n",
    "<li><a href=\"#eda\">III. Exploratory Data Analysis</a></li>\n",
    "<li><a href=\"#conclusions\">IV. Conclusions</a></li>\n",
    "</ul>\n",
    "\n",
    "----\n",
    "<a id='intro'></a>\n",
    "## I. INTRODUCTION\n",
    "In this project I will be investigating and analyzing data from The Movie Database (TMDb) dataset. \n",
    "\n",
    "#### Dataset: The Movie Database (TMDb)\n",
    "(cleaned from original data on [Kaggle](https://www.google.com/url?q=https://www.kaggle.com/tmdb/tmdb-movie-metadata&sa=D&ust=1532959635693000)) \n",
    "The dataset selected for analysis is from The Movie Database (TMDb) and contains approx. 10,000 movies.\n",
    ">To view the CSV file, click in the following link: [TMDb Movie Data](https://www.google.com/url?q=https://d17h27t6h515a5.cloudfront.net/topher/2017/October/59dd1c4c_tmdb-movies/tmdb-movies.csv&sa=D&ust=1532959635693000)\n",
    "\n",
    "The TMDb includes the following 21 columns: \n",
    "\n",
    "|Column                 |   | Description  | \n",
    "|:--------------------  | --- | ---------------------|\n",
    "|budget                 |   | The budget of the movie in dollars.| \n",
    "|budget_adj             |   | The budget of the movie in terms of 2010 dollars.|\n",
    "|cast                   |   | A list of actors, seperated by pipes, associated with the movie.|\n",
    "|director               |   |  A list of directors, seperated by pipes, associated with the movie.|\n",
    "|genres                 |   | A list of genres, seperated by pipes, associated with the movie.|\n",
    "|homepage               |   | The Official Homepage of the move.|\n",
    "|id                     |   | The ID of the move.|\n",
    "|imdb_id                |   | The IMDB ID of the movie.|\n",
    "|keywords               |   | A list of words, seperated by pipes, associated with the movie.|\n",
    "|original_title         |   | The original title of the movie.|\n",
    "|overview               |   | A brief blurb of the movie.|\n",
    "|popularity             |   | The Popularity Score assigned by TMDB.|\n",
    "|production_companies   |   | A list of production companies, seperated by pipes, involved with the making of the movie.|\n",
    "|release_date           |   | Theatrical Release Date of the movie.|\n",
    "|release_year           |   | Theatrical Release Year of the movie.|\n",
    "|revenue                |   | The total revenue of the movie in dollars.|\n",
    "|runtime                |   | The runtime of the movie in minutes.| \n",
    "|tagline                |   | The tagline of the movie. |\n",
    "|vote_average           |   | The average rating of the movie.|\n",
    "|vote_count             |   | The number of votes by users, as counted by TMDB.|\n",
    "\n",
    "#### What questions can we ask?\n",
    "> After the initial EDA, I have determined to use the following questions to explore in this report:\n",
    "- 1: What some of the most common words used in movie titles?\n",
    "- 2: What are the top five highest grossing movies with highest movie rating?\n",
    "- 3: What are the top five movies with highest gross earning?\n",
    "- 4: What are the directors with the highest grossing films by year?"
   ]
  },
  {
   "cell_type": "markdown",
   "metadata": {},
   "source": [
    "---\n",
    "<a id='wrangling'></a>\n",
    "## II. DATA WRANGLING\n",
    "Let's take a look at the data to determine waht questions to asked based on our findings.\n",
    "### 1. General Properties"
   ]
  },
  {
   "cell_type": "code",
   "execution_count": 1,
   "metadata": {},
   "outputs": [],
   "source": [
    "# import statements for all of the packages \n",
    "import numpy as np # package for scientific computing\n",
    "import pandas as pd # data analysis library\n",
    "import csv\n",
    "import matplotlib.pyplot as plt # collection of command style functions that make matplotlib work like MATLAB\n",
    "import seaborn as sns # data visualization library based on matplotlib. \n",
    "from collections import Counter # count occurrences of a particluar item\n",
    "from wordcloud import WordCloud, STOPWORDS \n",
    "# magic word so visualizations are plotted inline with the notebook. \n",
    "% matplotlib inline \n",
    "\n",
    "# display all the columns\n",
    "pd.set_option('display.width', 5000) \n",
    "pd.set_option('display.max_columns', 60) "
   ]
  },
  {
   "cell_type": "code",
   "execution_count": 2,
   "metadata": {},
   "outputs": [],
   "source": [
    "# import tmdb-movies.csv file\n",
    "df = pd.read_csv('tmdb-movies.csv')"
   ]
  },
  {
   "cell_type": "markdown",
   "metadata": {},
   "source": [
    "### 2. Assessing and Building Intuition\n",
    "Now that the data is loaded we can take a look at the data."
   ]
  },
  {
   "cell_type": "code",
   "execution_count": 3,
   "metadata": {},
   "outputs": [
    {
     "data": {
      "text/html": [
       "<div>\n",
       "<style>\n",
       "    .dataframe thead tr:only-child th {\n",
       "        text-align: right;\n",
       "    }\n",
       "\n",
       "    .dataframe thead th {\n",
       "        text-align: left;\n",
       "    }\n",
       "\n",
       "    .dataframe tbody tr th {\n",
       "        vertical-align: top;\n",
       "    }\n",
       "</style>\n",
       "<table border=\"1\" class=\"dataframe\">\n",
       "  <thead>\n",
       "    <tr style=\"text-align: right;\">\n",
       "      <th></th>\n",
       "      <th>id</th>\n",
       "      <th>imdb_id</th>\n",
       "      <th>popularity</th>\n",
       "      <th>budget</th>\n",
       "      <th>revenue</th>\n",
       "      <th>original_title</th>\n",
       "      <th>cast</th>\n",
       "      <th>homepage</th>\n",
       "      <th>director</th>\n",
       "      <th>tagline</th>\n",
       "      <th>keywords</th>\n",
       "      <th>overview</th>\n",
       "      <th>runtime</th>\n",
       "      <th>genres</th>\n",
       "      <th>production_companies</th>\n",
       "      <th>release_date</th>\n",
       "      <th>vote_count</th>\n",
       "      <th>vote_average</th>\n",
       "      <th>release_year</th>\n",
       "      <th>budget_adj</th>\n",
       "      <th>revenue_adj</th>\n",
       "    </tr>\n",
       "  </thead>\n",
       "  <tbody>\n",
       "    <tr>\n",
       "      <th>0</th>\n",
       "      <td>135397</td>\n",
       "      <td>tt0369610</td>\n",
       "      <td>32.985763</td>\n",
       "      <td>150000000</td>\n",
       "      <td>1513528810</td>\n",
       "      <td>Jurassic World</td>\n",
       "      <td>Chris Pratt|Bryce Dallas Howard|Irrfan Khan|Vi...</td>\n",
       "      <td>http://www.jurassicworld.com/</td>\n",
       "      <td>Colin Trevorrow</td>\n",
       "      <td>The park is open.</td>\n",
       "      <td>monster|dna|tyrannosaurus rex|velociraptor|island</td>\n",
       "      <td>Twenty-two years after the events of Jurassic ...</td>\n",
       "      <td>124</td>\n",
       "      <td>Action|Adventure|Science Fiction|Thriller</td>\n",
       "      <td>Universal Studios|Amblin Entertainment|Legenda...</td>\n",
       "      <td>6/9/15</td>\n",
       "      <td>5562</td>\n",
       "      <td>6.5</td>\n",
       "      <td>2015</td>\n",
       "      <td>1.379999e+08</td>\n",
       "      <td>1.392446e+09</td>\n",
       "    </tr>\n",
       "    <tr>\n",
       "      <th>1</th>\n",
       "      <td>76341</td>\n",
       "      <td>tt1392190</td>\n",
       "      <td>28.419936</td>\n",
       "      <td>150000000</td>\n",
       "      <td>378436354</td>\n",
       "      <td>Mad Max: Fury Road</td>\n",
       "      <td>Tom Hardy|Charlize Theron|Hugh Keays-Byrne|Nic...</td>\n",
       "      <td>http://www.madmaxmovie.com/</td>\n",
       "      <td>George Miller</td>\n",
       "      <td>What a Lovely Day.</td>\n",
       "      <td>future|chase|post-apocalyptic|dystopia|australia</td>\n",
       "      <td>An apocalyptic story set in the furthest reach...</td>\n",
       "      <td>120</td>\n",
       "      <td>Action|Adventure|Science Fiction|Thriller</td>\n",
       "      <td>Village Roadshow Pictures|Kennedy Miller Produ...</td>\n",
       "      <td>5/13/15</td>\n",
       "      <td>6185</td>\n",
       "      <td>7.1</td>\n",
       "      <td>2015</td>\n",
       "      <td>1.379999e+08</td>\n",
       "      <td>3.481613e+08</td>\n",
       "    </tr>\n",
       "    <tr>\n",
       "      <th>2</th>\n",
       "      <td>262500</td>\n",
       "      <td>tt2908446</td>\n",
       "      <td>13.112507</td>\n",
       "      <td>110000000</td>\n",
       "      <td>295238201</td>\n",
       "      <td>Insurgent</td>\n",
       "      <td>Shailene Woodley|Theo James|Kate Winslet|Ansel...</td>\n",
       "      <td>http://www.thedivergentseries.movie/#insurgent</td>\n",
       "      <td>Robert Schwentke</td>\n",
       "      <td>One Choice Can Destroy You</td>\n",
       "      <td>based on novel|revolution|dystopia|sequel|dyst...</td>\n",
       "      <td>Beatrice Prior must confront her inner demons ...</td>\n",
       "      <td>119</td>\n",
       "      <td>Adventure|Science Fiction|Thriller</td>\n",
       "      <td>Summit Entertainment|Mandeville Films|Red Wago...</td>\n",
       "      <td>3/18/15</td>\n",
       "      <td>2480</td>\n",
       "      <td>6.3</td>\n",
       "      <td>2015</td>\n",
       "      <td>1.012000e+08</td>\n",
       "      <td>2.716190e+08</td>\n",
       "    </tr>\n",
       "    <tr>\n",
       "      <th>3</th>\n",
       "      <td>140607</td>\n",
       "      <td>tt2488496</td>\n",
       "      <td>11.173104</td>\n",
       "      <td>200000000</td>\n",
       "      <td>2068178225</td>\n",
       "      <td>Star Wars: The Force Awakens</td>\n",
       "      <td>Harrison Ford|Mark Hamill|Carrie Fisher|Adam D...</td>\n",
       "      <td>http://www.starwars.com/films/star-wars-episod...</td>\n",
       "      <td>J.J. Abrams</td>\n",
       "      <td>Every generation has a story.</td>\n",
       "      <td>android|spaceship|jedi|space opera|3d</td>\n",
       "      <td>Thirty years after defeating the Galactic Empi...</td>\n",
       "      <td>136</td>\n",
       "      <td>Action|Adventure|Science Fiction|Fantasy</td>\n",
       "      <td>Lucasfilm|Truenorth Productions|Bad Robot</td>\n",
       "      <td>12/15/15</td>\n",
       "      <td>5292</td>\n",
       "      <td>7.5</td>\n",
       "      <td>2015</td>\n",
       "      <td>1.839999e+08</td>\n",
       "      <td>1.902723e+09</td>\n",
       "    </tr>\n",
       "    <tr>\n",
       "      <th>4</th>\n",
       "      <td>168259</td>\n",
       "      <td>tt2820852</td>\n",
       "      <td>9.335014</td>\n",
       "      <td>190000000</td>\n",
       "      <td>1506249360</td>\n",
       "      <td>Furious 7</td>\n",
       "      <td>Vin Diesel|Paul Walker|Jason Statham|Michelle ...</td>\n",
       "      <td>http://www.furious7.com/</td>\n",
       "      <td>James Wan</td>\n",
       "      <td>Vengeance Hits Home</td>\n",
       "      <td>car race|speed|revenge|suspense|car</td>\n",
       "      <td>Deckard Shaw seeks revenge against Dominic Tor...</td>\n",
       "      <td>137</td>\n",
       "      <td>Action|Crime|Thriller</td>\n",
       "      <td>Universal Pictures|Original Film|Media Rights ...</td>\n",
       "      <td>4/1/15</td>\n",
       "      <td>2947</td>\n",
       "      <td>7.3</td>\n",
       "      <td>2015</td>\n",
       "      <td>1.747999e+08</td>\n",
       "      <td>1.385749e+09</td>\n",
       "    </tr>\n",
       "  </tbody>\n",
       "</table>\n",
       "</div>"
      ],
      "text/plain": [
       "       id    imdb_id  popularity     budget     revenue                original_title                                               cast                                           homepage          director                        tagline                                           keywords                                           overview  runtime                                     genres                               production_companies release_date  vote_count  vote_average  release_year    budget_adj   revenue_adj\n",
       "0  135397  tt0369610   32.985763  150000000  1513528810                Jurassic World  Chris Pratt|Bryce Dallas Howard|Irrfan Khan|Vi...                      http://www.jurassicworld.com/   Colin Trevorrow              The park is open.  monster|dna|tyrannosaurus rex|velociraptor|island  Twenty-two years after the events of Jurassic ...      124  Action|Adventure|Science Fiction|Thriller  Universal Studios|Amblin Entertainment|Legenda...       6/9/15        5562           6.5          2015  1.379999e+08  1.392446e+09\n",
       "1   76341  tt1392190   28.419936  150000000   378436354            Mad Max: Fury Road  Tom Hardy|Charlize Theron|Hugh Keays-Byrne|Nic...                        http://www.madmaxmovie.com/     George Miller             What a Lovely Day.   future|chase|post-apocalyptic|dystopia|australia  An apocalyptic story set in the furthest reach...      120  Action|Adventure|Science Fiction|Thriller  Village Roadshow Pictures|Kennedy Miller Produ...      5/13/15        6185           7.1          2015  1.379999e+08  3.481613e+08\n",
       "2  262500  tt2908446   13.112507  110000000   295238201                     Insurgent  Shailene Woodley|Theo James|Kate Winslet|Ansel...     http://www.thedivergentseries.movie/#insurgent  Robert Schwentke     One Choice Can Destroy You  based on novel|revolution|dystopia|sequel|dyst...  Beatrice Prior must confront her inner demons ...      119         Adventure|Science Fiction|Thriller  Summit Entertainment|Mandeville Films|Red Wago...      3/18/15        2480           6.3          2015  1.012000e+08  2.716190e+08\n",
       "3  140607  tt2488496   11.173104  200000000  2068178225  Star Wars: The Force Awakens  Harrison Ford|Mark Hamill|Carrie Fisher|Adam D...  http://www.starwars.com/films/star-wars-episod...       J.J. Abrams  Every generation has a story.              android|spaceship|jedi|space opera|3d  Thirty years after defeating the Galactic Empi...      136   Action|Adventure|Science Fiction|Fantasy          Lucasfilm|Truenorth Productions|Bad Robot     12/15/15        5292           7.5          2015  1.839999e+08  1.902723e+09\n",
       "4  168259  tt2820852    9.335014  190000000  1506249360                     Furious 7  Vin Diesel|Paul Walker|Jason Statham|Michelle ...                           http://www.furious7.com/         James Wan            Vengeance Hits Home                car race|speed|revenge|suspense|car  Deckard Shaw seeks revenge against Dominic Tor...      137                      Action|Crime|Thriller  Universal Pictures|Original Film|Media Rights ...       4/1/15        2947           7.3          2015  1.747999e+08  1.385749e+09"
      ]
     },
     "execution_count": 3,
     "metadata": {},
     "output_type": "execute_result"
    }
   ],
   "source": [
    "# this returns the first few lines in our dataframe\n",
    "# by default, it returns the first five\n",
    "df.head()"
   ]
  },
  {
   "cell_type": "code",
   "execution_count": 4,
   "metadata": {},
   "outputs": [
    {
     "name": "stdout",
     "output_type": "stream",
     "text": [
      "There are 21 columns and 10866 rows in the movie dataset\n"
     ]
    }
   ],
   "source": [
    "#number of samples and columns\n",
    "# this returns a tuple of the dimensions of the dataframe\n",
    "rows, columns = df.shape\n",
    "print(\"There are {} columns and {} rows in the movie dataset\".format(columns, rows))"
   ]
  },
  {
   "cell_type": "code",
   "execution_count": 5,
   "metadata": {},
   "outputs": [
    {
     "data": {
      "text/plain": [
       "id                        int64\n",
       "imdb_id                  object\n",
       "popularity              float64\n",
       "budget                    int64\n",
       "revenue                   int64\n",
       "original_title           object\n",
       "cast                     object\n",
       "homepage                 object\n",
       "director                 object\n",
       "tagline                  object\n",
       "keywords                 object\n",
       "overview                 object\n",
       "runtime                   int64\n",
       "genres                   object\n",
       "production_companies     object\n",
       "release_date             object\n",
       "vote_count                int64\n",
       "vote_average            float64\n",
       "release_year              int64\n",
       "budget_adj              float64\n",
       "revenue_adj             float64\n",
       "dtype: object"
      ]
     },
     "execution_count": 5,
     "metadata": {},
     "output_type": "execute_result"
    }
   ],
   "source": [
    "# this returns the datatypes of the columns\n",
    "df.dtypes"
   ]
  },
  {
   "cell_type": "code",
   "execution_count": 6,
   "metadata": {},
   "outputs": [
    {
     "name": "stdout",
     "output_type": "stream",
     "text": [
      "<class 'pandas.core.frame.DataFrame'>\n",
      "RangeIndex: 10866 entries, 0 to 10865\n",
      "Data columns (total 21 columns):\n",
      "id                      10866 non-null int64\n",
      "imdb_id                 10856 non-null object\n",
      "popularity              10866 non-null float64\n",
      "budget                  10866 non-null int64\n",
      "revenue                 10866 non-null int64\n",
      "original_title          10866 non-null object\n",
      "cast                    10790 non-null object\n",
      "homepage                2936 non-null object\n",
      "director                10822 non-null object\n",
      "tagline                 8042 non-null object\n",
      "keywords                9373 non-null object\n",
      "overview                10862 non-null object\n",
      "runtime                 10866 non-null int64\n",
      "genres                  10843 non-null object\n",
      "production_companies    9836 non-null object\n",
      "release_date            10866 non-null object\n",
      "vote_count              10866 non-null int64\n",
      "vote_average            10866 non-null float64\n",
      "release_year            10866 non-null int64\n",
      "budget_adj              10866 non-null float64\n",
      "revenue_adj             10866 non-null float64\n",
      "dtypes: float64(4), int64(6), object(11)\n",
      "memory usage: 1.7+ MB\n"
     ]
    }
   ],
   "source": [
    "# display a concise summary of the dataframe,\n",
    "# including the number of non-null values in each column\n",
    "df.info()"
   ]
  },
  {
   "cell_type": "code",
   "execution_count": 7,
   "metadata": {},
   "outputs": [
    {
     "data": {
      "text/html": [
       "<div>\n",
       "<style>\n",
       "    .dataframe thead tr:only-child th {\n",
       "        text-align: right;\n",
       "    }\n",
       "\n",
       "    .dataframe thead th {\n",
       "        text-align: left;\n",
       "    }\n",
       "\n",
       "    .dataframe tbody tr th {\n",
       "        vertical-align: top;\n",
       "    }\n",
       "</style>\n",
       "<table border=\"1\" class=\"dataframe\">\n",
       "  <thead>\n",
       "    <tr style=\"text-align: right;\">\n",
       "      <th></th>\n",
       "      <th>id</th>\n",
       "      <th>popularity</th>\n",
       "      <th>budget</th>\n",
       "      <th>revenue</th>\n",
       "      <th>runtime</th>\n",
       "      <th>vote_count</th>\n",
       "      <th>vote_average</th>\n",
       "      <th>release_year</th>\n",
       "      <th>budget_adj</th>\n",
       "      <th>revenue_adj</th>\n",
       "    </tr>\n",
       "  </thead>\n",
       "  <tbody>\n",
       "    <tr>\n",
       "      <th>count</th>\n",
       "      <td>10866.000000</td>\n",
       "      <td>10866.000000</td>\n",
       "      <td>1.086600e+04</td>\n",
       "      <td>1.086600e+04</td>\n",
       "      <td>10866.000000</td>\n",
       "      <td>10866.000000</td>\n",
       "      <td>10866.000000</td>\n",
       "      <td>10866.000000</td>\n",
       "      <td>1.086600e+04</td>\n",
       "      <td>1.086600e+04</td>\n",
       "    </tr>\n",
       "    <tr>\n",
       "      <th>mean</th>\n",
       "      <td>66064.177434</td>\n",
       "      <td>0.646441</td>\n",
       "      <td>1.462570e+07</td>\n",
       "      <td>3.982332e+07</td>\n",
       "      <td>102.070863</td>\n",
       "      <td>217.389748</td>\n",
       "      <td>5.974922</td>\n",
       "      <td>2001.322658</td>\n",
       "      <td>1.755104e+07</td>\n",
       "      <td>5.136436e+07</td>\n",
       "    </tr>\n",
       "    <tr>\n",
       "      <th>std</th>\n",
       "      <td>92130.136561</td>\n",
       "      <td>1.000185</td>\n",
       "      <td>3.091321e+07</td>\n",
       "      <td>1.170035e+08</td>\n",
       "      <td>31.381405</td>\n",
       "      <td>575.619058</td>\n",
       "      <td>0.935142</td>\n",
       "      <td>12.812941</td>\n",
       "      <td>3.430616e+07</td>\n",
       "      <td>1.446325e+08</td>\n",
       "    </tr>\n",
       "    <tr>\n",
       "      <th>min</th>\n",
       "      <td>5.000000</td>\n",
       "      <td>0.000065</td>\n",
       "      <td>0.000000e+00</td>\n",
       "      <td>0.000000e+00</td>\n",
       "      <td>0.000000</td>\n",
       "      <td>10.000000</td>\n",
       "      <td>1.500000</td>\n",
       "      <td>1960.000000</td>\n",
       "      <td>0.000000e+00</td>\n",
       "      <td>0.000000e+00</td>\n",
       "    </tr>\n",
       "    <tr>\n",
       "      <th>25%</th>\n",
       "      <td>10596.250000</td>\n",
       "      <td>0.207583</td>\n",
       "      <td>0.000000e+00</td>\n",
       "      <td>0.000000e+00</td>\n",
       "      <td>90.000000</td>\n",
       "      <td>17.000000</td>\n",
       "      <td>5.400000</td>\n",
       "      <td>1995.000000</td>\n",
       "      <td>0.000000e+00</td>\n",
       "      <td>0.000000e+00</td>\n",
       "    </tr>\n",
       "    <tr>\n",
       "      <th>50%</th>\n",
       "      <td>20669.000000</td>\n",
       "      <td>0.383856</td>\n",
       "      <td>0.000000e+00</td>\n",
       "      <td>0.000000e+00</td>\n",
       "      <td>99.000000</td>\n",
       "      <td>38.000000</td>\n",
       "      <td>6.000000</td>\n",
       "      <td>2006.000000</td>\n",
       "      <td>0.000000e+00</td>\n",
       "      <td>0.000000e+00</td>\n",
       "    </tr>\n",
       "    <tr>\n",
       "      <th>75%</th>\n",
       "      <td>75610.000000</td>\n",
       "      <td>0.713817</td>\n",
       "      <td>1.500000e+07</td>\n",
       "      <td>2.400000e+07</td>\n",
       "      <td>111.000000</td>\n",
       "      <td>145.750000</td>\n",
       "      <td>6.600000</td>\n",
       "      <td>2011.000000</td>\n",
       "      <td>2.085325e+07</td>\n",
       "      <td>3.369710e+07</td>\n",
       "    </tr>\n",
       "    <tr>\n",
       "      <th>max</th>\n",
       "      <td>417859.000000</td>\n",
       "      <td>32.985763</td>\n",
       "      <td>4.250000e+08</td>\n",
       "      <td>2.781506e+09</td>\n",
       "      <td>900.000000</td>\n",
       "      <td>9767.000000</td>\n",
       "      <td>9.200000</td>\n",
       "      <td>2015.000000</td>\n",
       "      <td>4.250000e+08</td>\n",
       "      <td>2.827124e+09</td>\n",
       "    </tr>\n",
       "  </tbody>\n",
       "</table>\n",
       "</div>"
      ],
      "text/plain": [
       "                  id    popularity        budget       revenue       runtime    vote_count  vote_average  release_year    budget_adj   revenue_adj\n",
       "count   10866.000000  10866.000000  1.086600e+04  1.086600e+04  10866.000000  10866.000000  10866.000000  10866.000000  1.086600e+04  1.086600e+04\n",
       "mean    66064.177434      0.646441  1.462570e+07  3.982332e+07    102.070863    217.389748      5.974922   2001.322658  1.755104e+07  5.136436e+07\n",
       "std     92130.136561      1.000185  3.091321e+07  1.170035e+08     31.381405    575.619058      0.935142     12.812941  3.430616e+07  1.446325e+08\n",
       "min         5.000000      0.000065  0.000000e+00  0.000000e+00      0.000000     10.000000      1.500000   1960.000000  0.000000e+00  0.000000e+00\n",
       "25%     10596.250000      0.207583  0.000000e+00  0.000000e+00     90.000000     17.000000      5.400000   1995.000000  0.000000e+00  0.000000e+00\n",
       "50%     20669.000000      0.383856  0.000000e+00  0.000000e+00     99.000000     38.000000      6.000000   2006.000000  0.000000e+00  0.000000e+00\n",
       "75%     75610.000000      0.713817  1.500000e+07  2.400000e+07    111.000000    145.750000      6.600000   2011.000000  2.085325e+07  3.369710e+07\n",
       "max    417859.000000     32.985763  4.250000e+08  2.781506e+09    900.000000   9767.000000      9.200000   2015.000000  4.250000e+08  2.827124e+09"
      ]
     },
     "execution_count": 7,
     "metadata": {},
     "output_type": "execute_result"
    }
   ],
   "source": [
    "# this returns useful descriptive statistics for each column of data\n",
    "df.describe()"
   ]
  },
  {
   "cell_type": "markdown",
   "metadata": {},
   "source": [
    "### 3. Data Cleaning"
   ]
  },
  {
   "cell_type": "markdown",
   "metadata": {},
   "source": [
    "#### 3a. Drop columns from dataset that will not be used for analysis"
   ]
  },
  {
   "cell_type": "code",
   "execution_count": 8,
   "metadata": {},
   "outputs": [],
   "source": [
    "# drop columns not going to use from dataset\n",
    "df.drop(['popularity', 'cast', 'homepage', 'tagline', 'keywords','overview', 'runtime', 'production_companies','release_date'], axis=1, inplace=True)"
   ]
  },
  {
   "cell_type": "code",
   "execution_count": 9,
   "metadata": {},
   "outputs": [
    {
     "name": "stdout",
     "output_type": "stream",
     "text": [
      "<class 'pandas.core.frame.DataFrame'>\n",
      "RangeIndex: 10866 entries, 0 to 10865\n",
      "Data columns (total 12 columns):\n",
      "id                10866 non-null int64\n",
      "imdb_id           10856 non-null object\n",
      "budget            10866 non-null int64\n",
      "revenue           10866 non-null int64\n",
      "original_title    10866 non-null object\n",
      "director          10822 non-null object\n",
      "genres            10843 non-null object\n",
      "vote_count        10866 non-null int64\n",
      "vote_average      10866 non-null float64\n",
      "release_year      10866 non-null int64\n",
      "budget_adj        10866 non-null float64\n",
      "revenue_adj       10866 non-null float64\n",
      "dtypes: float64(3), int64(5), object(4)\n",
      "memory usage: 1018.8+ KB\n"
     ]
    }
   ],
   "source": [
    "# confirm columns dropped\n",
    "df.info()"
   ]
  },
  {
   "cell_type": "markdown",
   "metadata": {},
   "source": [
    "#### 3b. Change data type from float to int  for both columns with _adj "
   ]
  },
  {
   "cell_type": "code",
   "execution_count": 10,
   "metadata": {},
   "outputs": [],
   "source": [
    "#change format from float to int\n",
    "change_adj = ['budget_adj', 'revenue_adj']\n",
    "df[change_adj] = df[change_adj].astype(int)"
   ]
  },
  {
   "cell_type": "code",
   "execution_count": 11,
   "metadata": {},
   "outputs": [
    {
     "data": {
      "text/plain": [
       "id                  int64\n",
       "imdb_id            object\n",
       "budget              int64\n",
       "revenue             int64\n",
       "original_title     object\n",
       "director           object\n",
       "genres             object\n",
       "vote_count          int64\n",
       "vote_average      float64\n",
       "release_year        int64\n",
       "budget_adj          int64\n",
       "revenue_adj         int64\n",
       "dtype: object"
      ]
     },
     "execution_count": 11,
     "metadata": {},
     "output_type": "execute_result"
    }
   ],
   "source": [
    "#confirm datatype converted\n",
    "df.dtypes"
   ]
  },
  {
   "cell_type": "markdown",
   "metadata": {},
   "source": [
    "#### 3c. Create new column \"movie_gross_adj\" to show how much the move made or lost"
   ]
  },
  {
   "cell_type": "code",
   "execution_count": 12,
   "metadata": {},
   "outputs": [],
   "source": [
    "#new column to calculate the movies earning\n",
    "df['movie_gross_adj'] = df['revenue_adj'] - df['budget_adj']"
   ]
  },
  {
   "cell_type": "code",
   "execution_count": 13,
   "metadata": {},
   "outputs": [
    {
     "name": "stdout",
     "output_type": "stream",
     "text": [
      "<class 'pandas.core.frame.DataFrame'>\n",
      "RangeIndex: 10866 entries, 0 to 10865\n",
      "Data columns (total 13 columns):\n",
      "id                 10866 non-null int64\n",
      "imdb_id            10856 non-null object\n",
      "budget             10866 non-null int64\n",
      "revenue            10866 non-null int64\n",
      "original_title     10866 non-null object\n",
      "director           10822 non-null object\n",
      "genres             10843 non-null object\n",
      "vote_count         10866 non-null int64\n",
      "vote_average       10866 non-null float64\n",
      "release_year       10866 non-null int64\n",
      "budget_adj         10866 non-null int64\n",
      "revenue_adj        10866 non-null int64\n",
      "movie_gross_adj    10866 non-null int64\n",
      "dtypes: float64(1), int64(8), object(4)\n",
      "memory usage: 1.1+ MB\n"
     ]
    }
   ],
   "source": [
    "#confirm column created\n",
    "df.info()"
   ]
  },
  {
   "cell_type": "markdown",
   "metadata": {},
   "source": [
    "#### 3d. Find and delete duplicate rows"
   ]
  },
  {
   "cell_type": "code",
   "execution_count": 14,
   "metadata": {},
   "outputs": [
    {
     "name": "stdout",
     "output_type": "stream",
     "text": [
      "The dataset has 1 duplicate row(s).\n"
     ]
    }
   ],
   "source": [
    "#number of duplicates in dataset\n",
    "dups = sum(df.duplicated())\n",
    "print(\"The dataset has {} duplicate row(s).\".format(dups))"
   ]
  },
  {
   "cell_type": "code",
   "execution_count": 15,
   "metadata": {},
   "outputs": [],
   "source": [
    "#drop duplicate(s)\n",
    "df.drop_duplicates(inplace=True)"
   ]
  },
  {
   "cell_type": "code",
   "execution_count": 16,
   "metadata": {},
   "outputs": [
    {
     "name": "stdout",
     "output_type": "stream",
     "text": [
      "Now the dataset has 0 duplicate row(s).\n"
     ]
    }
   ],
   "source": [
    "#confirm drop\n",
    "drops = sum(df.duplicated())\n",
    "print(\"Now the dataset has {} duplicate row(s).\".format(drops))"
   ]
  },
  {
   "cell_type": "markdown",
   "metadata": {},
   "source": [
    "#### 3e. Fill in missing values with 'Not Available'"
   ]
  },
  {
   "cell_type": "code",
   "execution_count": 17,
   "metadata": {},
   "outputs": [],
   "source": [
    "#fill in missing values for director as 'Not Available'\n",
    "df['director'].fillna('Not Available', inplace=True)"
   ]
  },
  {
   "cell_type": "code",
   "execution_count": 18,
   "metadata": {},
   "outputs": [],
   "source": [
    "#fill in missing values for genres as 'Not Available'\n",
    "df['genres'].fillna('Not Available', inplace=True)"
   ]
  },
  {
   "cell_type": "code",
   "execution_count": 19,
   "metadata": {},
   "outputs": [
    {
     "name": "stdout",
     "output_type": "stream",
     "text": [
      "<class 'pandas.core.frame.DataFrame'>\n",
      "Int64Index: 10865 entries, 0 to 10865\n",
      "Data columns (total 13 columns):\n",
      "id                 10865 non-null int64\n",
      "imdb_id            10855 non-null object\n",
      "budget             10865 non-null int64\n",
      "revenue            10865 non-null int64\n",
      "original_title     10865 non-null object\n",
      "director           10865 non-null object\n",
      "genres             10865 non-null object\n",
      "vote_count         10865 non-null int64\n",
      "vote_average       10865 non-null float64\n",
      "release_year       10865 non-null int64\n",
      "budget_adj         10865 non-null int64\n",
      "revenue_adj        10865 non-null int64\n",
      "movie_gross_adj    10865 non-null int64\n",
      "dtypes: float64(1), int64(8), object(4)\n",
      "memory usage: 1.2+ MB\n"
     ]
    }
   ],
   "source": [
    "#confirm missing values replaced with 'Not Available'\n",
    "df.info()"
   ]
  },
  {
   "cell_type": "markdown",
   "metadata": {},
   "source": [
    "#### 3f. Split Columns with pipes\n",
    "Although I am not using director or production companies in this analysi, I still want to split these columns so that only the first director and first production company are listed.  All directors and production companies listed after the pipe will be droped."
   ]
  },
  {
   "cell_type": "code",
   "execution_count": 20,
   "metadata": {},
   "outputs": [],
   "source": [
    "#convert column to string\n",
    "df['director'] = df['director'].astype(str)\n",
    "\n",
    "#use split() to seperate directors\n",
    "df['director'] = df['director'].str.split('|').str[0]"
   ]
  },
  {
   "cell_type": "code",
   "execution_count": 21,
   "metadata": {},
   "outputs": [
    {
     "data": {
      "text/plain": [
       "0                       Colin Trevorrow\n",
       "1                         George Miller\n",
       "2                      Robert Schwentke\n",
       "3                           J.J. Abrams\n",
       "4                             James Wan\n",
       "5        Alejandro GonzÃ¡lez IÃ±Ã¡rritu\n",
       "6                           Alan Taylor\n",
       "7                          Ridley Scott\n",
       "8                            Kyle Balda\n",
       "9                           Pete Docter\n",
       "10                           Sam Mendes\n",
       "11                       Lana Wachowski\n",
       "12                         Alex Garland\n",
       "13                       Chris Columbus\n",
       "14                          Joss Whedon\n",
       "15                    Quentin Tarantino\n",
       "16                      Olivier Megaton\n",
       "17                          Peyton Reed\n",
       "18                      Kenneth Branagh\n",
       "19                     Francis Lawrence\n",
       "20                            Brad Bird\n",
       "21                        Antoine Fuqua\n",
       "22                          Brad Peyton\n",
       "23                   Sam Taylor-Johnson\n",
       "24                           Adam McKay\n",
       "25                Christopher McQuarrie\n",
       "26                      Seth MacFarlane\n",
       "27                       Matthew Vaughn\n",
       "28                         Tom McCarthy\n",
       "29                             Wes Ball\n",
       "                      ...              \n",
       "10836                   Charles Walters\n",
       "10837                   John Guillermin\n",
       "10838                    Richard Brooks\n",
       "10839                     Bill Melendez\n",
       "10840                      Guy Hamilton\n",
       "10841                     Monte Hellman\n",
       "10842               Wolfgang Reitherman\n",
       "10843                     Basil Dearden\n",
       "10844                       Daniel Mann\n",
       "10845                     Gerald Thomas\n",
       "10846                    Terence Fisher\n",
       "10847                    Terence Fisher\n",
       "10848                 Richard Fleischer\n",
       "10849                      Ronald Neame\n",
       "10850                       Jack Smight\n",
       "10851                        James Hill\n",
       "10852                      Fielder Cook\n",
       "10853                     Lewis Gilbert\n",
       "10854                       Arthur Penn\n",
       "10855                       Alan Rafkin\n",
       "10856                      Norman Tokar\n",
       "10857                    Henry Hathaway\n",
       "10858                    Norman Jewison\n",
       "10859                John Frankenheimer\n",
       "10860                     Gerald Thomas\n",
       "10861                       Bruce Brown\n",
       "10862                John Frankenheimer\n",
       "10863                    Eldar Ryazanov\n",
       "10864                       Woody Allen\n",
       "10865                  Harold P. Warren\n",
       "Name: director, Length: 10865, dtype: object"
      ]
     },
     "execution_count": 21,
     "metadata": {},
     "output_type": "execute_result"
    }
   ],
   "source": [
    "#confirm director colomn only has first director on list\n",
    "df['director']"
   ]
  },
  {
   "cell_type": "markdown",
   "metadata": {},
   "source": [
    "#### 3g. Columns with bad text strings\n",
    "Most of the columns (original title, cast, homepage, director, tagline, keywords, overview, production_companies) have text that was not converted to the correct character.  The only text column without this issue is genres.  Since I will be using the **director** and **original_title** column; I am going to replace the bad text strings with the correct English letter. The will not clean all the text strings, but will clean the strings that will appear in my analysis."
   ]
  },
  {
   "cell_type": "code",
   "execution_count": 22,
   "metadata": {},
   "outputs": [],
   "source": [
    "#DIRECTOR\n",
    "#have to replace the longer text strings first to keep from only\n",
    "#replacing part of the string with the correct letter\n",
    "#director column replace with n\n",
    "df['director'] = df['director'].str.replace('Ã±Ã¡', 'n')\n",
    "df['director'] = df['director'].str.replace('Ã±', 'n')\n",
    "\n",
    "#director column replace with a\n",
    "df['director'] = df['director'].str.replace('Ã¡', 'a')\n",
    "df['director'] = df['director'].str.replace('Ã¤', 'a')\n",
    "df['director'] = df['director'].str.replace('Â¡', 'a')\n",
    "df['director'] = df['director'].str.replace('Ã…', 'a')\n",
    "\n",
    "#director column replace with e\n",
    "df['director'] = df['director'].str.replace('ÃƒÂ©', 'e')\n",
    "df['director'] = df['director'].str.replace('Â©', 'e')\n",
    "df['director'] = df['director'].str.replace('Ã©', 'e')\n",
    "df['director'] = df['director'].str.replace('Ãª', 'e')\n",
    "df['director'] = df['director'].str.replace('Ã«', 'e')\n",
    "df['director'] = df['director'].str.replace('Ã¨', 'e')\n",
    "\n",
    "#director column replace with c\n",
    "df['director'] = df['director'].str.replace('ÃƒÂ§', 'c')\n",
    "df['director'] = df['director'].str.replace('Â§', 'c')\n",
    "df['director'] = df['director'].str.replace('Ã§', 'c')\n",
    "\n",
    "#director column replace with o\n",
    "df['director'] = df['director'].str.replace('ÃƒÂ¶', 'o')\n",
    "df['director'] = df['director'].str.replace('Â¶', 'o')\n",
    "df['director'] = df['director'].str.replace('Ã³', 'o')\n",
    "df['director'] = df['director'].str.replace('Ã¸', 'o')\n",
    "df['director'] = df['director'].str.replace('Ã¶', 'o')\n",
    "\n",
    "#director column replace with i\n",
    "df['director'] = df['director'].str.replace('ÃƒÂ­', 'i')\n",
    "df['director'] = df['director'].str.replace('Â­', 'i')\n",
    "df['director'] = df['director'].str.replace('Ã­', 'i')\n",
    "df['director'] = df['director'].str.replace(\"â€™\", \"'\")\n",
    "df['director'] = df['director'].str.replace(\"Â°\", \"°\")\n",
    "df['director'] = df['director'].str.replace(\"Ã¼\", \"u\")\n",
    "\n",
    "#replace specific directors\n",
    "df['director'] = df['director'].str.replace('HervÃ© de CrÃ©cy', 'Herve de Crecy')\n",
    "df['director'] = df['director'].str.replace('RÃ©mi BezanÃ§on', 'Remi Bezancon')\n",
    "df['director'] = df['director'].str.replace('Kleber MendonÃ§a Filho', 'Kleber Mendonca Filho')"
   ]
  },
  {
   "cell_type": "code",
   "execution_count": 23,
   "metadata": {},
   "outputs": [],
   "source": [
    "#ORIGINAL_TITLE\n",
    "#have to replace the longer text strings first to keep from only\n",
    "# replacing part of the string with the correct letter\n",
    "\n",
    "#original_title column replace with n\n",
    "df['original_title'] = df['original_title'].str.replace('Ã±Ã¡', 'n')\n",
    "#df['original_title'] = df['original_title'].str.replace('ÃƒÂ±ÃƒÂ¡', 'n')\n",
    "df['original_title'] = df['original_title'].str.replace('Ã±', 'n')\n",
    "\n",
    "#original_title column replace with a\n",
    "df['original_title'] = df['original_title'].str.replace('Ã¡', 'a')\n",
    "df['original_title'] = df['original_title'].str.replace('Ã¤', 'a')\n",
    "#df['original_title'] = df['original_title'].str.replace('Â¤', 'a')\n",
    "#df['original_title'] = df['original_title'].str.replace('ÃƒÂ¡', 'a')\n",
    "df['original_title'] = df['original_title'].str.replace('Â¡', 'a')\n",
    "df['original_title'] = df['original_title'].str.replace('Ã\\xa0', 'a')\n",
    "df['original_title'] = df['original_title'].str.replace('Ã…', 'a')\n",
    "\n",
    "#original_title column replace with e\n",
    "df['original_title'] = df['original_title'].str.replace('ÃƒÂ©', 'e')\n",
    "df['original_title'] = df['original_title'].str.replace('Â©', 'e')\n",
    "df['original_title'] = df['original_title'].str.replace('Ã©', 'e')\n",
    "df['original_title'] = df['original_title'].str.replace('Ãª', 'e')\n",
    "df['original_title'] = df['original_title'].str.replace('Ã«', 'e')\n",
    "df['original_title'] = df['original_title'].str.replace('Ã¨', 'e')\n",
    "\n",
    "#original_title column replace with c\n",
    "df['original_title'] = df['original_title'].str.replace('ÃƒÂ§', 'c')\n",
    "df['original_title'] = df['original_title'].str.replace('Â§', 'c')\n",
    "df['original_title'] = df['original_title'].str.replace('Ã§', 'c')\n",
    "\n",
    "#original_title column replace with o\n",
    "df['original_title'] = df['original_title'].str.replace('ÃƒÂ¶', 'o')\n",
    "df['original_title'] = df['original_title'].str.replace('Â¶', 'o')\n",
    "df['original_title'] = df['original_title'].str.replace('Ã³', 'o')\n",
    "df['original_title'] = df['original_title'].str.replace('Ã¸', 'o')\n",
    "df['original_title'] = df['original_title'].str.replace('Ã¶', 'o')\n",
    "\n",
    "#original_title column replace with i\n",
    "df['original_title'] = df['original_title'].str.replace('ÃƒÂ­', 'i')\n",
    "df['original_title'] = df['original_title'].str.replace('Â­', 'i')\n",
    "df['original_title'] = df['original_title'].str.replace('Ã­', 'i')\n",
    "\n",
    "#original_title column replace with \n",
    "df['original_title'] = df['original_title'].str.replace(\"â€™\", \"'\")\n",
    "df['original_title'] = df['original_title'].str.replace(\"Â°\", \"°\")\n",
    "df['original_title'] = df['original_title'].str.replace(\"Ã¼\", \"u\")"
   ]
  },
  {
   "cell_type": "code",
   "execution_count": 24,
   "metadata": {},
   "outputs": [
    {
     "data": {
      "text/plain": [
       "'The Ringer'"
      ]
     },
     "execution_count": 24,
     "metadata": {},
     "output_type": "execute_result"
    }
   ],
   "source": [
    "#look at a string that had bad text and confirm replacement\n",
    "df['original_title'].iloc[6357]"
   ]
  },
  {
   "cell_type": "markdown",
   "metadata": {},
   "source": [
    "#### 3h. Create new data subsets to use for later analysis\n",
    "This dataset will only include rows that contain values in the budget_adj and revenue_adj.  All rows with values of zero will be removed."
   ]
  },
  {
   "cell_type": "code",
   "execution_count": 25,
   "metadata": {},
   "outputs": [],
   "source": [
    "#create a subset to for analysing budget and revenue\n",
    "df_money = df.copy()"
   ]
  },
  {
   "cell_type": "code",
   "execution_count": 26,
   "metadata": {},
   "outputs": [
    {
     "name": "stdout",
     "output_type": "stream",
     "text": [
      "<class 'pandas.core.frame.DataFrame'>\n",
      "Int64Index: 10865 entries, 0 to 10865\n",
      "Data columns (total 13 columns):\n",
      "id                 10865 non-null int64\n",
      "imdb_id            10855 non-null object\n",
      "budget             10865 non-null int64\n",
      "revenue            10865 non-null int64\n",
      "original_title     10865 non-null object\n",
      "director           10865 non-null object\n",
      "genres             10865 non-null object\n",
      "vote_count         10865 non-null int64\n",
      "vote_average       10865 non-null float64\n",
      "release_year       10865 non-null int64\n",
      "budget_adj         10865 non-null int64\n",
      "revenue_adj        10865 non-null int64\n",
      "movie_gross_adj    10865 non-null int64\n",
      "dtypes: float64(1), int64(8), object(4)\n",
      "memory usage: 1.2+ MB\n"
     ]
    }
   ],
   "source": [
    "df_money.info()"
   ]
  },
  {
   "cell_type": "code",
   "execution_count": 27,
   "metadata": {},
   "outputs": [
    {
     "data": {
      "text/plain": [
       "id                  0\n",
       "imdb_id            10\n",
       "budget              0\n",
       "revenue             0\n",
       "original_title      0\n",
       "director            0\n",
       "genres              0\n",
       "vote_count          0\n",
       "vote_average        0\n",
       "release_year        0\n",
       "budget_adj          0\n",
       "revenue_adj         0\n",
       "movie_gross_adj     0\n",
       "dtype: int64"
      ]
     },
     "execution_count": 27,
     "metadata": {},
     "output_type": "execute_result"
    }
   ],
   "source": [
    "#Which features have missing values?\n",
    "df_money.isnull().sum()"
   ]
  },
  {
   "cell_type": "code",
   "execution_count": 28,
   "metadata": {},
   "outputs": [
    {
     "data": {
      "text/html": [
       "<div>\n",
       "<style>\n",
       "    .dataframe thead tr:only-child th {\n",
       "        text-align: right;\n",
       "    }\n",
       "\n",
       "    .dataframe thead th {\n",
       "        text-align: left;\n",
       "    }\n",
       "\n",
       "    .dataframe tbody tr th {\n",
       "        vertical-align: top;\n",
       "    }\n",
       "</style>\n",
       "<table border=\"1\" class=\"dataframe\">\n",
       "  <thead>\n",
       "    <tr style=\"text-align: right;\">\n",
       "      <th></th>\n",
       "      <th>id</th>\n",
       "      <th>budget</th>\n",
       "      <th>revenue</th>\n",
       "      <th>vote_count</th>\n",
       "      <th>vote_average</th>\n",
       "      <th>release_year</th>\n",
       "      <th>budget_adj</th>\n",
       "      <th>revenue_adj</th>\n",
       "      <th>movie_gross_adj</th>\n",
       "    </tr>\n",
       "  </thead>\n",
       "  <tbody>\n",
       "    <tr>\n",
       "      <th>count</th>\n",
       "      <td>10865.000000</td>\n",
       "      <td>1.086500e+04</td>\n",
       "      <td>1.086500e+04</td>\n",
       "      <td>10865.000000</td>\n",
       "      <td>10865.000000</td>\n",
       "      <td>10865.000000</td>\n",
       "      <td>1.086500e+04</td>\n",
       "      <td>1.086500e+04</td>\n",
       "      <td>1.086500e+04</td>\n",
       "    </tr>\n",
       "    <tr>\n",
       "      <th>mean</th>\n",
       "      <td>66066.374413</td>\n",
       "      <td>1.462429e+07</td>\n",
       "      <td>3.982690e+07</td>\n",
       "      <td>217.399632</td>\n",
       "      <td>5.975012</td>\n",
       "      <td>2001.321859</td>\n",
       "      <td>1.754989e+07</td>\n",
       "      <td>5.136900e+07</td>\n",
       "      <td>3.381911e+07</td>\n",
       "    </tr>\n",
       "    <tr>\n",
       "      <th>std</th>\n",
       "      <td>92134.091971</td>\n",
       "      <td>3.091428e+07</td>\n",
       "      <td>1.170083e+08</td>\n",
       "      <td>575.644627</td>\n",
       "      <td>0.935138</td>\n",
       "      <td>12.813260</td>\n",
       "      <td>3.430753e+07</td>\n",
       "      <td>1.446383e+08</td>\n",
       "      <td>1.252194e+08</td>\n",
       "    </tr>\n",
       "    <tr>\n",
       "      <th>min</th>\n",
       "      <td>5.000000</td>\n",
       "      <td>0.000000e+00</td>\n",
       "      <td>0.000000e+00</td>\n",
       "      <td>10.000000</td>\n",
       "      <td>1.500000</td>\n",
       "      <td>1960.000000</td>\n",
       "      <td>0.000000e+00</td>\n",
       "      <td>0.000000e+00</td>\n",
       "      <td>-4.139124e+08</td>\n",
       "    </tr>\n",
       "    <tr>\n",
       "      <th>25%</th>\n",
       "      <td>10596.000000</td>\n",
       "      <td>0.000000e+00</td>\n",
       "      <td>0.000000e+00</td>\n",
       "      <td>17.000000</td>\n",
       "      <td>5.400000</td>\n",
       "      <td>1995.000000</td>\n",
       "      <td>0.000000e+00</td>\n",
       "      <td>0.000000e+00</td>\n",
       "      <td>0.000000e+00</td>\n",
       "    </tr>\n",
       "    <tr>\n",
       "      <th>50%</th>\n",
       "      <td>20662.000000</td>\n",
       "      <td>0.000000e+00</td>\n",
       "      <td>0.000000e+00</td>\n",
       "      <td>38.000000</td>\n",
       "      <td>6.000000</td>\n",
       "      <td>2006.000000</td>\n",
       "      <td>0.000000e+00</td>\n",
       "      <td>0.000000e+00</td>\n",
       "      <td>0.000000e+00</td>\n",
       "    </tr>\n",
       "    <tr>\n",
       "      <th>75%</th>\n",
       "      <td>75612.000000</td>\n",
       "      <td>1.500000e+07</td>\n",
       "      <td>2.400000e+07</td>\n",
       "      <td>146.000000</td>\n",
       "      <td>6.600000</td>\n",
       "      <td>2011.000000</td>\n",
       "      <td>2.085325e+07</td>\n",
       "      <td>3.370173e+07</td>\n",
       "      <td>1.293091e+07</td>\n",
       "    </tr>\n",
       "    <tr>\n",
       "      <th>max</th>\n",
       "      <td>417859.000000</td>\n",
       "      <td>4.250000e+08</td>\n",
       "      <td>2.781506e+09</td>\n",
       "      <td>9767.000000</td>\n",
       "      <td>9.200000</td>\n",
       "      <td>2015.000000</td>\n",
       "      <td>4.250000e+08</td>\n",
       "      <td>2.827124e+09</td>\n",
       "      <td>2.750137e+09</td>\n",
       "    </tr>\n",
       "  </tbody>\n",
       "</table>\n",
       "</div>"
      ],
      "text/plain": [
       "                  id        budget       revenue    vote_count  vote_average  release_year    budget_adj   revenue_adj  movie_gross_adj\n",
       "count   10865.000000  1.086500e+04  1.086500e+04  10865.000000  10865.000000  10865.000000  1.086500e+04  1.086500e+04     1.086500e+04\n",
       "mean    66066.374413  1.462429e+07  3.982690e+07    217.399632      5.975012   2001.321859  1.754989e+07  5.136900e+07     3.381911e+07\n",
       "std     92134.091971  3.091428e+07  1.170083e+08    575.644627      0.935138     12.813260  3.430753e+07  1.446383e+08     1.252194e+08\n",
       "min         5.000000  0.000000e+00  0.000000e+00     10.000000      1.500000   1960.000000  0.000000e+00  0.000000e+00    -4.139124e+08\n",
       "25%     10596.000000  0.000000e+00  0.000000e+00     17.000000      5.400000   1995.000000  0.000000e+00  0.000000e+00     0.000000e+00\n",
       "50%     20662.000000  0.000000e+00  0.000000e+00     38.000000      6.000000   2006.000000  0.000000e+00  0.000000e+00     0.000000e+00\n",
       "75%     75612.000000  1.500000e+07  2.400000e+07    146.000000      6.600000   2011.000000  2.085325e+07  3.370173e+07     1.293091e+07\n",
       "max    417859.000000  4.250000e+08  2.781506e+09   9767.000000      9.200000   2015.000000  4.250000e+08  2.827124e+09     2.750137e+09"
      ]
     },
     "execution_count": 28,
     "metadata": {},
     "output_type": "execute_result"
    }
   ],
   "source": [
    "#find values of zero \n",
    "df_money.describe()"
   ]
  },
  {
   "cell_type": "code",
   "execution_count": 29,
   "metadata": {},
   "outputs": [
    {
     "name": "stdout",
     "output_type": "stream",
     "text": [
      "There are 13 columns and 10865 rows in the dataset\n"
     ]
    }
   ],
   "source": [
    "# number of samples and columns\n",
    "rows, columns = df_money.shape\n",
    "print(\"There are {} columns and {} rows in the dataset\".format(columns, rows))"
   ]
  },
  {
   "cell_type": "code",
   "execution_count": 30,
   "metadata": {},
   "outputs": [],
   "source": [
    "# replace values of zero with Nan\n",
    "df_money = df_money.replace(0, np.NaN)\n",
    "\n",
    "# drop all rows with NaN\n",
    "df_money.dropna(inplace=True)"
   ]
  },
  {
   "cell_type": "code",
   "execution_count": 31,
   "metadata": {},
   "outputs": [
    {
     "name": "stdout",
     "output_type": "stream",
     "text": [
      "After the values with zero were dropped, there are 13 columns and 3849 rows in the new dataset\n"
     ]
    }
   ],
   "source": [
    "# check to see rows were dropped\n",
    "rows, columns = df_money.shape\n",
    "print(\"After the values with zero were dropped, there are {} columns and {} rows in the new dataset\".format(columns, rows))"
   ]
  },
  {
   "cell_type": "code",
   "execution_count": 32,
   "metadata": {},
   "outputs": [
    {
     "name": "stdout",
     "output_type": "stream",
     "text": [
      "<class 'pandas.core.frame.DataFrame'>\n",
      "Int64Index: 3849 entries, 0 to 10848\n",
      "Data columns (total 13 columns):\n",
      "id                 3849 non-null int64\n",
      "imdb_id            3849 non-null object\n",
      "budget             3849 non-null float64\n",
      "revenue            3849 non-null float64\n",
      "original_title     3849 non-null object\n",
      "director           3849 non-null object\n",
      "genres             3849 non-null object\n",
      "vote_count         3849 non-null int64\n",
      "vote_average       3849 non-null float64\n",
      "release_year       3849 non-null int64\n",
      "budget_adj         3849 non-null float64\n",
      "revenue_adj        3849 non-null float64\n",
      "movie_gross_adj    3849 non-null float64\n",
      "dtypes: float64(6), int64(3), object(4)\n",
      "memory usage: 421.0+ KB\n"
     ]
    }
   ],
   "source": [
    "df_money.info()"
   ]
  },
  {
   "cell_type": "code",
   "execution_count": 33,
   "metadata": {},
   "outputs": [
    {
     "data": {
      "text/plain": [
       "id                 0\n",
       "imdb_id            0\n",
       "budget             0\n",
       "revenue            0\n",
       "original_title     0\n",
       "director           0\n",
       "genres             0\n",
       "vote_count         0\n",
       "vote_average       0\n",
       "release_year       0\n",
       "budget_adj         0\n",
       "revenue_adj        0\n",
       "movie_gross_adj    0\n",
       "dtype: int64"
      ]
     },
     "execution_count": 33,
     "metadata": {},
     "output_type": "execute_result"
    }
   ],
   "source": [
    "# check to make sure no null values\n",
    "df_money.isnull().sum()"
   ]
  },
  {
   "cell_type": "markdown",
   "metadata": {},
   "source": [
    "---\n",
    "<a id='eda'></a>\n",
    "## III. EXPLORATORY DATA ANALYSIS (EDA)\n",
    "Look for patterns in the data, summarize main characteristics, and visualize relationships in the data."
   ]
  },
  {
   "cell_type": "markdown",
   "metadata": {},
   "source": [
    "### 1: What some of the most common words used in movie titles?"
   ]
  },
  {
   "cell_type": "code",
   "execution_count": 34,
   "metadata": {},
   "outputs": [],
   "source": [
    "# most common words used in movie titles\n",
    "df_copy = df.copy().dropna()\n",
    "df_copy['original_title'] = df_copy['original_title'].astype('str')\n",
    "title = ' '.join(df_copy['original_title'])"
   ]
  },
  {
   "cell_type": "code",
   "execution_count": 35,
   "metadata": {},
   "outputs": [
    {
     "data": {
      "image/png": "[encoded data removed]",
      "text/plain": [
       "<matplotlib.figure.Figure at 0x7f8f7e2f2eb8>"
      ]
     },
     "metadata": {},
     "output_type": "display_data"
    }
   ],
   "source": [
    "title_wd = WordCloud(stopwords=STOPWORDS, background_color='white', height=2000, width=4000).generate(title)\n",
    "plt.figure(figsize=(16,8))\n",
    "plt.imshow(title_wd)\n",
    "plt.axis('off')\n",
    "plt.show()"
   ]
  },
  {
   "cell_type": "markdown",
   "metadata": {},
   "source": [
    "> ### Question 1 Findings\n",
    ">**Some of the most common words used in movie titles include (sorted alphabetically):** Day, Dead, Girl, I, Last, Love, Man, Movie, and Night"
   ]
  },
  {
   "cell_type": "markdown",
   "metadata": {},
   "source": [
    "### Question 2: What are the top five highest grossing movies with highest movie rating? \n",
    ">**NOTE:** I will only be looking at the following years: 2010-2015."
   ]
  },
  {
   "cell_type": "code",
   "execution_count": 36,
   "metadata": {},
   "outputs": [
    {
     "data": {
      "image/png": "[encoded data removed]",
      "text/plain": [
       "<matplotlib.figure.Figure at 0x7f8f7e1d66d8>"
      ]
     },
     "metadata": {},
     "output_type": "display_data"
    }
   ],
   "source": [
    "df_year = df_money.query('release_year >=2010')\n",
    "\n",
    "#create df_copy and drop any missing info\n",
    "df_copy = df_year.copy().dropna()\n",
    "\n",
    "#Get top grossing movies\n",
    "top_gross_movies = df_copy.sort_values(by =['movie_gross_adj'], ascending = False)\n",
    "\n",
    "movie_vote_counts = top_gross_movies.groupby('original_title')['vote_average'].mean()\n",
    "movie_vote_indx = movie_vote_counts.sort_values(ascending=False)[:5].index\n",
    "movie_vote_values = movie_vote_counts.sort_values(ascending=False)[:5].values\n",
    "\n",
    "fig,ax = plt.subplots(figsize=(8,6))\n",
    "sns.barplot(x = movie_vote_indx,\n",
    "            y = movie_vote_values,\n",
    "            color='#90caf9',\n",
    "            ax=ax)\n",
    "ticks = plt.setp(ax.get_xticklabels(),rotation=90)\n",
    "plt.title('Top 5 grossing movies by highest movie ratinge, 2010-2015')\n",
    "plt.ylabel('Movie Rating')\n",
    "plt.xlabel('Movie')\n",
    "del fig,ax,ticks"
   ]
  },
  {
   "cell_type": "markdown",
   "metadata": {},
   "source": [
    "> ### Question 2 Findings\n",
    ">**The top five movies by highest movie rating are:** Whiplash, The Imitation Game, Interstellar, Inside Out, Mommy"
   ]
  },
  {
   "cell_type": "markdown",
   "metadata": {},
   "source": [
    "### Question 3: What are the top five movies with highest gross earning? \n",
    ">**NOTE:** I will only be looking at the following years: 2010-2015."
   ]
  },
  {
   "cell_type": "code",
   "execution_count": 37,
   "metadata": {},
   "outputs": [
    {
     "data": {
      "image/png": "[encoded data removed]",
      "text/plain": [
       "<matplotlib.figure.Figure at 0x7f8f7e2f24e0>"
      ]
     },
     "metadata": {},
     "output_type": "display_data"
    }
   ],
   "source": [
    "#Top 5 movies with highest gross earning\n",
    "df_year = df_money.query('release_year >=2010')\n",
    "\n",
    "#Movie vs movie adjusted gross\n",
    "df_copy = df_year.copy().dropna()\n",
    "movie_gross_counts = df_copy.groupby(df_copy['original_title'])['movie_gross_adj'].mean()\n",
    "movie_gross_indx = movie_gross_counts.sort_values(ascending=False)[:5].index\n",
    "movie_gross_values = movie_gross_counts.sort_values(ascending=False)[:5].values\n",
    "\n",
    "fig,ax = plt.subplots(figsize=(8,6))\n",
    "sns.barplot(x = movie_gross_indx,\n",
    "            y = movie_gross_values,\n",
    "            color='#90caf9',\n",
    "            ax=ax)\n",
    "ticks = plt.setp(ax.get_xticklabels(),rotation=90)\n",
    "plt.title('Top 5 movies by gross earning, 2010-2015')\n",
    "plt.ylabel('Movie Gross Earning')\n",
    "plt.xlabel('Director')\n",
    "del fig,ax,ticks"
   ]
  },
  {
   "cell_type": "markdown",
   "metadata": {},
   "source": [
    "> ### Question 3 Findings\n",
    ">**The top five movies with highest gross earnings are:**  Star Wars: The Force Awakens, Jurassic World, The Avengers, Furious 7, and Harry Potter and the Deathly Hallows: Part 2"
   ]
  },
  {
   "cell_type": "markdown",
   "metadata": {},
   "source": [
    "### Question 4: What are the directors with the highest grossing films by year? \n",
    ">**NOTE:** I will only be looking at the following years: 2010-2015."
   ]
  },
  {
   "cell_type": "code",
   "execution_count": 38,
   "metadata": {},
   "outputs": [
    {
     "data": {
      "image/png": "[encoded data removed]",
      "text/plain": [
       "<matplotlib.figure.Figure at 0x7f8f7e2ebeb8>"
      ]
     },
     "metadata": {},
     "output_type": "display_data"
    }
   ],
   "source": [
    "#Director vs year and diff_gross\n",
    "# use query to create a group of years between 2010 and 2015\n",
    "df_year = df_money.query('release_year >=2010')\n",
    "\n",
    "# remove SettingWithCopyWarning \n",
    "pd.options.mode.chained_assignment = None  \n",
    "\n",
    "df_copy = df_year.copy().dropna()\n",
    "director_budge = df_copy.groupby(df_copy['director'])['movie_gross_adj'].sum()\n",
    "director_budge_indx = director_budge.sort_values(ascending=False)[:5].index\n",
    "director_budge_pivot = pd.pivot_table(data = df_copy[df_year['director'].isin(director_budge_indx)],\n",
    "                                      index=['release_year'],\n",
    "                                      columns=['director'],\n",
    "                                      values=['movie_gross_adj'],\n",
    "                                      aggfunc='sum')\n",
    "fig,ax = plt.subplots(figsize=(10,8))\n",
    "sns.heatmap(director_budge_pivot['movie_gross_adj'],vmin=0,annot=False,linewidth=.5,ax=ax,cmap='PuBu')\n",
    "plt.title('Top 5 directors with the highest grossing films by year (2010-2015)')\n",
    "plt.ylabel('Year');"
   ]
  },
  {
   "cell_type": "markdown",
   "metadata": {},
   "source": [
    "> ### Question 4 Findings\n",
    ">**The directors with the highest grossing films by year are:**  \n",
    "- 2010:Christopher Nolan, David Yates\n",
    "- 2011: David Yates, JJ. Abrams\n",
    "- 2012: Christopher Nolan, Joss Whedon, Peter Jackson\n",
    "- 2013: JJ. Abrams, Peter Jackson\n",
    "- 2014: Christopher Nolan, Peter Jackson\n",
    "- 2015: JJ. Abrams, Joss Whedon"
   ]
  },
  {
   "cell_type": "markdown",
   "metadata": {},
   "source": [
    "---\n",
    "<a id='conclusions'></a>\n",
    "## IV. CONCLUSIONS\n",
    "\n",
    "**Findings:** After analyzing the TMDb dataset, I determined the following conclusions:\n",
    "- **Some of the most common words used in movie titles include (sorted alphabetically):** Day, Dead, Girl, I, Last, Love, Man, Movie, and Night \n",
    "- **The top five movies by highest movie rating are:** Whiplash, The Imitation Game, Interstellar, Inside Out, Mommy\n",
    "- **The top five movies with highest gross earnings are:**  Star Wars: The Force Awakens, Jurassic World, The Avengers, Furious 7, and Harry Potter and the Deathly Hallows: Part 2\n",
    "- **The directors with the highest grossing films by year are:**  \n",
    "> - 2010:Christopher Nolan, David Yates\n",
    "> - 2011: David Yates, JJ. Abrams\n",
    "> - 2012: Christopher Nolan, Joss Whedon, Peter Jackson\n",
    "> - 2013: JJ. Abrams, Peter Jackson\n",
    "> - 2014: Christopher Nolan, Peter Jackson\n",
    "> - 2015: JJ. Abrams, Joss Whedon\n",
    "\n",
    "**Limitations**: The analysis was done under the assumption that the budget and revenue were in US dollars. Also, since the budget and revenue colums were missing data I was only able to use 3,849 out of the 10,865 rows in the dataset."
   ]
  },
  {
   "cell_type": "code",
   "execution_count": 40,
   "metadata": {},
   "outputs": [
    {
     "data": {
      "text/plain": [
       "0"
      ]
     },
     "execution_count": 40,
     "metadata": {},
     "output_type": "execute_result"
    }
   ],
   "source": [
    "from subprocess import call\n",
    "call(['python', '-m', 'nbconvert', 'Investigate_a_Dataset.ipynb'])"
   ]
  },
  {
   "cell_type": "code",
   "execution_count": null,
   "metadata": {},
   "outputs": [],
   "source": []
  }
 ],
 "metadata": {
  "kernelspec": {
   "display_name": "Python 3",
   "language": "python",
   "name": "python3"
  },
  "language_info": {
   "codemirror_mode": {
    "name": "ipython",
    "version": 3
   },
   "file_extension": ".py",
   "mimetype": "text/x-python",
   "name": "python",
   "nbconvert_exporter": "python",
   "pygments_lexer": "ipython3",
   "version": "3.6.3"
  }
 },
 "nbformat": 4,
 "nbformat_minor": 2
}
